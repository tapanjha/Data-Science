{
  "nbformat": 4,
  "nbformat_minor": 0,
  "metadata": {
    "colab": {
      "provenance": [],
      "authorship_tag": "ABX9TyNH7cjTYglXZ2Q3RkECxmoW",
      "include_colab_link": true
    },
    "kernelspec": {
      "name": "python3",
      "display_name": "Python 3"
    },
    "language_info": {
      "name": "python"
    }
  },
  "cells": [
    {
      "cell_type": "markdown",
      "metadata": {
        "id": "view-in-github",
        "colab_type": "text"
      },
      "source": [
        "<a href=\"https://colab.research.google.com/github/tapanjha/Data-Science/blob/main/IDSP4.ipynb\" target=\"_parent\"><img src=\"https://colab.research.google.com/assets/colab-badge.svg\" alt=\"Open In Colab\"/></a>"
      ]
    },
    {
      "cell_type": "markdown",
      "source": [
        "***CONCEPT OF PIVOT() AND PIVOT-TABLE() IN PYTHON.***"
      ],
      "metadata": {
        "id": "V1_iI9Iz9k0g"
      }
    },
    {
      "cell_type": "markdown",
      "source": [
        "**Program-4(a): Write a program to implement pivot() on a DataFrame.**"
      ],
      "metadata": {
        "id": "DtwHJ7sNLXdl"
      }
    },
    {
      "cell_type": "markdown",
      "source": [
        "**Syntax:** pandas.pivot(index, columns, values) \n",
        "\n",
        "pivot() function produces pivot table based on 3 columns of the DataFrame. Uses unique values from index / columns and fills with values.\n",
        "\n",
        "Parameters:\n",
        "index[ndarray] : Labels to use to make new frame’s index\n",
        "columns[ndarray] : Labels to use to make new frame’s columns\n",
        "values[ndarray] : Values to use for populating new frame’s values"
      ],
      "metadata": {
        "id": "qLTdK9I9Lsd6"
      }
    },
    {
      "cell_type": "code",
      "source": [
        "import pandas as pd\n",
        "\n",
        "# creating dataframe\n",
        "df = pd.DataFrame({'Product' : ['Carrots',\n",
        "\t\t\t\t\t\t\t\t'Beans', 'Orange', 'Broccoli', 'Banana'],\n",
        "\t\t\t\t'Category' : ['Vegetable',\n",
        "\t\t\t\t\t\t\t\t'Vegetable', 'Fruit', 'Vegetable','Fruit'],\n",
        "\t\t\t\t'Quantity' : [8, 5, 3, 5, 8],\n",
        "\t\t\t\t'Amount' : [270, 239, 617, 384,610]})\n",
        "print(df)"
      ],
      "metadata": {
        "colab": {
          "base_uri": "https://localhost:8080/"
        },
        "id": "E4chk3oCgA-d",
        "outputId": "d9f395f7-ca91-4a2f-a9b1-5a52875f4df8"
      },
      "execution_count": null,
      "outputs": [
        {
          "output_type": "stream",
          "name": "stdout",
          "text": [
            "    Product   Category  Quantity  Amount\n",
            "0   Carrots  Vegetable         8     270\n",
            "1     Beans  Vegetable         5     239\n",
            "2    Orange      Fruit         3     617\n",
            "3  Broccoli  Vegetable         5     384\n",
            "4    Banana      Fruit         8     610\n"
          ]
        }
      ]
    },
    {
      "cell_type": "code",
      "source": [
        "df.pivot(index='Product', columns='Category', values='Amount')"
      ],
      "metadata": {
        "colab": {
          "base_uri": "https://localhost:8080/",
          "height": 238
        },
        "id": "bis4z_Cbg4El",
        "outputId": "ebec8cf4-b254-4a53-a21a-188ac08230dd"
      },
      "execution_count": null,
      "outputs": [
        {
          "output_type": "execute_result",
          "data": {
            "text/plain": [
              "Category  Fruit  Vegetable\n",
              "Product                   \n",
              "Banana    610.0        NaN\n",
              "Beans       NaN      239.0\n",
              "Broccoli    NaN      384.0\n",
              "Carrots     NaN      270.0\n",
              "Orange    617.0        NaN"
            ],
            "text/html": [
              "\n",
              "  <div id=\"df-f895be9f-5265-47f1-8c73-e6ecc8cf2ac1\">\n",
              "    <div class=\"colab-df-container\">\n",
              "      <div>\n",
              "<style scoped>\n",
              "    .dataframe tbody tr th:only-of-type {\n",
              "        vertical-align: middle;\n",
              "    }\n",
              "\n",
              "    .dataframe tbody tr th {\n",
              "        vertical-align: top;\n",
              "    }\n",
              "\n",
              "    .dataframe thead th {\n",
              "        text-align: right;\n",
              "    }\n",
              "</style>\n",
              "<table border=\"1\" class=\"dataframe\">\n",
              "  <thead>\n",
              "    <tr style=\"text-align: right;\">\n",
              "      <th>Category</th>\n",
              "      <th>Fruit</th>\n",
              "      <th>Vegetable</th>\n",
              "    </tr>\n",
              "    <tr>\n",
              "      <th>Product</th>\n",
              "      <th></th>\n",
              "      <th></th>\n",
              "    </tr>\n",
              "  </thead>\n",
              "  <tbody>\n",
              "    <tr>\n",
              "      <th>Banana</th>\n",
              "      <td>610.0</td>\n",
              "      <td>NaN</td>\n",
              "    </tr>\n",
              "    <tr>\n",
              "      <th>Beans</th>\n",
              "      <td>NaN</td>\n",
              "      <td>239.0</td>\n",
              "    </tr>\n",
              "    <tr>\n",
              "      <th>Broccoli</th>\n",
              "      <td>NaN</td>\n",
              "      <td>384.0</td>\n",
              "    </tr>\n",
              "    <tr>\n",
              "      <th>Carrots</th>\n",
              "      <td>NaN</td>\n",
              "      <td>270.0</td>\n",
              "    </tr>\n",
              "    <tr>\n",
              "      <th>Orange</th>\n",
              "      <td>617.0</td>\n",
              "      <td>NaN</td>\n",
              "    </tr>\n",
              "  </tbody>\n",
              "</table>\n",
              "</div>\n",
              "      <button class=\"colab-df-convert\" onclick=\"convertToInteractive('df-f895be9f-5265-47f1-8c73-e6ecc8cf2ac1')\"\n",
              "              title=\"Convert this dataframe to an interactive table.\"\n",
              "              style=\"display:none;\">\n",
              "        \n",
              "  <svg xmlns=\"http://www.w3.org/2000/svg\" height=\"24px\"viewBox=\"0 0 24 24\"\n",
              "       width=\"24px\">\n",
              "    <path d=\"M0 0h24v24H0V0z\" fill=\"none\"/>\n",
              "    <path d=\"M18.56 5.44l.94 2.06.94-2.06 2.06-.94-2.06-.94-.94-2.06-.94 2.06-2.06.94zm-11 1L8.5 8.5l.94-2.06 2.06-.94-2.06-.94L8.5 2.5l-.94 2.06-2.06.94zm10 10l.94 2.06.94-2.06 2.06-.94-2.06-.94-.94-2.06-.94 2.06-2.06.94z\"/><path d=\"M17.41 7.96l-1.37-1.37c-.4-.4-.92-.59-1.43-.59-.52 0-1.04.2-1.43.59L10.3 9.45l-7.72 7.72c-.78.78-.78 2.05 0 2.83L4 21.41c.39.39.9.59 1.41.59.51 0 1.02-.2 1.41-.59l7.78-7.78 2.81-2.81c.8-.78.8-2.07 0-2.86zM5.41 20L4 18.59l7.72-7.72 1.47 1.35L5.41 20z\"/>\n",
              "  </svg>\n",
              "      </button>\n",
              "      \n",
              "  <style>\n",
              "    .colab-df-container {\n",
              "      display:flex;\n",
              "      flex-wrap:wrap;\n",
              "      gap: 12px;\n",
              "    }\n",
              "\n",
              "    .colab-df-convert {\n",
              "      background-color: #E8F0FE;\n",
              "      border: none;\n",
              "      border-radius: 50%;\n",
              "      cursor: pointer;\n",
              "      display: none;\n",
              "      fill: #1967D2;\n",
              "      height: 32px;\n",
              "      padding: 0 0 0 0;\n",
              "      width: 32px;\n",
              "    }\n",
              "\n",
              "    .colab-df-convert:hover {\n",
              "      background-color: #E2EBFA;\n",
              "      box-shadow: 0px 1px 2px rgba(60, 64, 67, 0.3), 0px 1px 3px 1px rgba(60, 64, 67, 0.15);\n",
              "      fill: #174EA6;\n",
              "    }\n",
              "\n",
              "    [theme=dark] .colab-df-convert {\n",
              "      background-color: #3B4455;\n",
              "      fill: #D2E3FC;\n",
              "    }\n",
              "\n",
              "    [theme=dark] .colab-df-convert:hover {\n",
              "      background-color: #434B5C;\n",
              "      box-shadow: 0px 1px 3px 1px rgba(0, 0, 0, 0.15);\n",
              "      filter: drop-shadow(0px 1px 2px rgba(0, 0, 0, 0.3));\n",
              "      fill: #FFFFFF;\n",
              "    }\n",
              "  </style>\n",
              "\n",
              "      <script>\n",
              "        const buttonEl =\n",
              "          document.querySelector('#df-f895be9f-5265-47f1-8c73-e6ecc8cf2ac1 button.colab-df-convert');\n",
              "        buttonEl.style.display =\n",
              "          google.colab.kernel.accessAllowed ? 'block' : 'none';\n",
              "\n",
              "        async function convertToInteractive(key) {\n",
              "          const element = document.querySelector('#df-f895be9f-5265-47f1-8c73-e6ecc8cf2ac1');\n",
              "          const dataTable =\n",
              "            await google.colab.kernel.invokeFunction('convertToInteractive',\n",
              "                                                     [key], {});\n",
              "          if (!dataTable) return;\n",
              "\n",
              "          const docLinkHtml = 'Like what you see? Visit the ' +\n",
              "            '<a target=\"_blank\" href=https://colab.research.google.com/notebooks/data_table.ipynb>data table notebook</a>'\n",
              "            + ' to learn more about interactive tables.';\n",
              "          element.innerHTML = '';\n",
              "          dataTable['output_type'] = 'display_data';\n",
              "          await google.colab.output.renderOutput(dataTable, element);\n",
              "          const docLink = document.createElement('div');\n",
              "          docLink.innerHTML = docLinkHtml;\n",
              "          element.appendChild(docLink);\n",
              "        }\n",
              "      </script>\n",
              "    </div>\n",
              "  </div>\n",
              "  "
            ]
          },
          "metadata": {},
          "execution_count": 31
        }
      ]
    },
    {
      "cell_type": "code",
      "source": [
        "df.pivot(index='Product', columns='Category', values=['Quantity', 'Amount'])"
      ],
      "metadata": {
        "colab": {
          "base_uri": "https://localhost:8080/",
          "height": 269
        },
        "id": "Xt3Ez-OwhqMf",
        "outputId": "cd3c32f4-3263-493e-c280-dc7e7e7698d2"
      },
      "execution_count": null,
      "outputs": [
        {
          "output_type": "execute_result",
          "data": {
            "text/plain": [
              "         Quantity           Amount          \n",
              "Category    Fruit Vegetable  Fruit Vegetable\n",
              "Product                                     \n",
              "Banana        8.0       NaN  610.0       NaN\n",
              "Beans         NaN       5.0    NaN     239.0\n",
              "Broccoli      NaN       5.0    NaN     384.0\n",
              "Carrots       NaN       8.0    NaN     270.0\n",
              "Orange        3.0       NaN  617.0       NaN"
            ],
            "text/html": [
              "\n",
              "  <div id=\"df-a9af57d6-5b8d-45c2-b7b7-1eb2059d0734\">\n",
              "    <div class=\"colab-df-container\">\n",
              "      <div>\n",
              "<style scoped>\n",
              "    .dataframe tbody tr th:only-of-type {\n",
              "        vertical-align: middle;\n",
              "    }\n",
              "\n",
              "    .dataframe tbody tr th {\n",
              "        vertical-align: top;\n",
              "    }\n",
              "\n",
              "    .dataframe thead tr th {\n",
              "        text-align: left;\n",
              "    }\n",
              "\n",
              "    .dataframe thead tr:last-of-type th {\n",
              "        text-align: right;\n",
              "    }\n",
              "</style>\n",
              "<table border=\"1\" class=\"dataframe\">\n",
              "  <thead>\n",
              "    <tr>\n",
              "      <th></th>\n",
              "      <th colspan=\"2\" halign=\"left\">Quantity</th>\n",
              "      <th colspan=\"2\" halign=\"left\">Amount</th>\n",
              "    </tr>\n",
              "    <tr>\n",
              "      <th>Category</th>\n",
              "      <th>Fruit</th>\n",
              "      <th>Vegetable</th>\n",
              "      <th>Fruit</th>\n",
              "      <th>Vegetable</th>\n",
              "    </tr>\n",
              "    <tr>\n",
              "      <th>Product</th>\n",
              "      <th></th>\n",
              "      <th></th>\n",
              "      <th></th>\n",
              "      <th></th>\n",
              "    </tr>\n",
              "  </thead>\n",
              "  <tbody>\n",
              "    <tr>\n",
              "      <th>Banana</th>\n",
              "      <td>8.0</td>\n",
              "      <td>NaN</td>\n",
              "      <td>610.0</td>\n",
              "      <td>NaN</td>\n",
              "    </tr>\n",
              "    <tr>\n",
              "      <th>Beans</th>\n",
              "      <td>NaN</td>\n",
              "      <td>5.0</td>\n",
              "      <td>NaN</td>\n",
              "      <td>239.0</td>\n",
              "    </tr>\n",
              "    <tr>\n",
              "      <th>Broccoli</th>\n",
              "      <td>NaN</td>\n",
              "      <td>5.0</td>\n",
              "      <td>NaN</td>\n",
              "      <td>384.0</td>\n",
              "    </tr>\n",
              "    <tr>\n",
              "      <th>Carrots</th>\n",
              "      <td>NaN</td>\n",
              "      <td>8.0</td>\n",
              "      <td>NaN</td>\n",
              "      <td>270.0</td>\n",
              "    </tr>\n",
              "    <tr>\n",
              "      <th>Orange</th>\n",
              "      <td>3.0</td>\n",
              "      <td>NaN</td>\n",
              "      <td>617.0</td>\n",
              "      <td>NaN</td>\n",
              "    </tr>\n",
              "  </tbody>\n",
              "</table>\n",
              "</div>\n",
              "      <button class=\"colab-df-convert\" onclick=\"convertToInteractive('df-a9af57d6-5b8d-45c2-b7b7-1eb2059d0734')\"\n",
              "              title=\"Convert this dataframe to an interactive table.\"\n",
              "              style=\"display:none;\">\n",
              "        \n",
              "  <svg xmlns=\"http://www.w3.org/2000/svg\" height=\"24px\"viewBox=\"0 0 24 24\"\n",
              "       width=\"24px\">\n",
              "    <path d=\"M0 0h24v24H0V0z\" fill=\"none\"/>\n",
              "    <path d=\"M18.56 5.44l.94 2.06.94-2.06 2.06-.94-2.06-.94-.94-2.06-.94 2.06-2.06.94zm-11 1L8.5 8.5l.94-2.06 2.06-.94-2.06-.94L8.5 2.5l-.94 2.06-2.06.94zm10 10l.94 2.06.94-2.06 2.06-.94-2.06-.94-.94-2.06-.94 2.06-2.06.94z\"/><path d=\"M17.41 7.96l-1.37-1.37c-.4-.4-.92-.59-1.43-.59-.52 0-1.04.2-1.43.59L10.3 9.45l-7.72 7.72c-.78.78-.78 2.05 0 2.83L4 21.41c.39.39.9.59 1.41.59.51 0 1.02-.2 1.41-.59l7.78-7.78 2.81-2.81c.8-.78.8-2.07 0-2.86zM5.41 20L4 18.59l7.72-7.72 1.47 1.35L5.41 20z\"/>\n",
              "  </svg>\n",
              "      </button>\n",
              "      \n",
              "  <style>\n",
              "    .colab-df-container {\n",
              "      display:flex;\n",
              "      flex-wrap:wrap;\n",
              "      gap: 12px;\n",
              "    }\n",
              "\n",
              "    .colab-df-convert {\n",
              "      background-color: #E8F0FE;\n",
              "      border: none;\n",
              "      border-radius: 50%;\n",
              "      cursor: pointer;\n",
              "      display: none;\n",
              "      fill: #1967D2;\n",
              "      height: 32px;\n",
              "      padding: 0 0 0 0;\n",
              "      width: 32px;\n",
              "    }\n",
              "\n",
              "    .colab-df-convert:hover {\n",
              "      background-color: #E2EBFA;\n",
              "      box-shadow: 0px 1px 2px rgba(60, 64, 67, 0.3), 0px 1px 3px 1px rgba(60, 64, 67, 0.15);\n",
              "      fill: #174EA6;\n",
              "    }\n",
              "\n",
              "    [theme=dark] .colab-df-convert {\n",
              "      background-color: #3B4455;\n",
              "      fill: #D2E3FC;\n",
              "    }\n",
              "\n",
              "    [theme=dark] .colab-df-convert:hover {\n",
              "      background-color: #434B5C;\n",
              "      box-shadow: 0px 1px 3px 1px rgba(0, 0, 0, 0.15);\n",
              "      filter: drop-shadow(0px 1px 2px rgba(0, 0, 0, 0.3));\n",
              "      fill: #FFFFFF;\n",
              "    }\n",
              "  </style>\n",
              "\n",
              "      <script>\n",
              "        const buttonEl =\n",
              "          document.querySelector('#df-a9af57d6-5b8d-45c2-b7b7-1eb2059d0734 button.colab-df-convert');\n",
              "        buttonEl.style.display =\n",
              "          google.colab.kernel.accessAllowed ? 'block' : 'none';\n",
              "\n",
              "        async function convertToInteractive(key) {\n",
              "          const element = document.querySelector('#df-a9af57d6-5b8d-45c2-b7b7-1eb2059d0734');\n",
              "          const dataTable =\n",
              "            await google.colab.kernel.invokeFunction('convertToInteractive',\n",
              "                                                     [key], {});\n",
              "          if (!dataTable) return;\n",
              "\n",
              "          const docLinkHtml = 'Like what you see? Visit the ' +\n",
              "            '<a target=\"_blank\" href=https://colab.research.google.com/notebooks/data_table.ipynb>data table notebook</a>'\n",
              "            + ' to learn more about interactive tables.';\n",
              "          element.innerHTML = '';\n",
              "          dataTable['output_type'] = 'display_data';\n",
              "          await google.colab.output.renderOutput(dataTable, element);\n",
              "          const docLink = document.createElement('div');\n",
              "          docLink.innerHTML = docLinkHtml;\n",
              "          element.appendChild(docLink);\n",
              "        }\n",
              "      </script>\n",
              "    </div>\n",
              "  </div>\n",
              "  "
            ]
          },
          "metadata": {},
          "execution_count": 32
        }
      ]
    },
    {
      "cell_type": "markdown",
      "source": [
        "**Program-4(b): Write a program to implement \n",
        "pivot-table() on a DataFrame.**"
      ],
      "metadata": {
        "id": "ozqw-09_169v"
      }
    },
    {
      "cell_type": "code",
      "execution_count": null,
      "metadata": {
        "id": "fdF-Ib7U1K_D",
        "colab": {
          "base_uri": "https://localhost:8080/"
        },
        "outputId": "f29e63fa-c45b-4b0e-adb0-dc6be5c3ca3d"
      },
      "outputs": [
        {
          "output_type": "stream",
          "name": "stdout",
          "text": [
            "    Product   Category  Quantity  Amount\n",
            "0   Carrots  Vegetable         8     270\n",
            "1  Broccoli  Vegetable         5     239\n",
            "2    Banana      Fruit         3     617\n",
            "3    Banana      Fruit         4     384\n",
            "4     Beans  Vegetable         5     626\n",
            "5    Orange      Fruit         9     610\n",
            "6  Broccoli  Vegetable        11      62\n",
            "7    Banana      Fruit         8      90\n"
          ]
        }
      ],
      "source": [
        "# importing pandas\n",
        "import pandas as pd\n",
        "\n",
        "# creating dataframe\n",
        "df = pd.DataFrame({'Product' : ['Carrots', 'Broccoli', 'Banana', 'Banana',\n",
        "\t\t\t\t\t\t\t\t'Beans', 'Orange', 'Broccoli', 'Banana'],\n",
        "\t\t\t\t'Category' : ['Vegetable', 'Vegetable', 'Fruit', 'Fruit',\n",
        "\t\t\t\t\t\t\t\t'Vegetable', 'Fruit', 'Vegetable', 'Fruit'],\n",
        "\t\t\t\t'Quantity' : [8, 5, 3, 4, 5, 9, 11, 8],\n",
        "\t\t\t\t'Amount' : [270, 239, 617, 384, 626, 610, 62, 90]})\n",
        "print(df)"
      ]
    },
    {
      "cell_type": "markdown",
      "source": [
        "**#To get the total sales of each product.**\n",
        "\n",
        "**Program Logic:** creating pivot table of total sales product-wise, aggfunc = 'sum' will allow you to obtain the sum of sales each product."
      ],
      "metadata": {
        "id": "Z3N8q9G9IdaP"
      }
    },
    {
      "cell_type": "code",
      "source": [
        "pivot = df.pivot_table(index =['Product'],\n",
        "                       values =['Amount'],\n",
        "                       aggfunc ='sum')\n",
        "print(pivot)"
      ],
      "metadata": {
        "colab": {
          "base_uri": "https://localhost:8080/"
        },
        "id": "iU_qiGN7ItWf",
        "outputId": "8a6b6112-7ccc-4851-c497-b6d2014cad8a"
      },
      "execution_count": null,
      "outputs": [
        {
          "output_type": "stream",
          "name": "stdout",
          "text": [
            "          Amount\n",
            "Product         \n",
            "Banana      1091\n",
            "Beans        626\n",
            "Broccoli     301\n",
            "Carrots      270\n",
            "Orange       610\n"
          ]
        }
      ]
    },
    {
      "cell_type": "markdown",
      "source": [
        "**To get the total sales of each category** \n",
        "\n",
        "creating pivot table of total sales category-wise, aggfunc = 'sum' will allow you to obtain the sum of sales each product."
      ],
      "metadata": {
        "id": "0JYy7BnQJoZs"
      }
    },
    {
      "cell_type": "code",
      "source": [
        "pivot = df.pivot_table(index =['Category'], \n",
        "                       values =['Amount'], \n",
        "                       aggfunc ='sum')\n",
        "print(pivot)"
      ],
      "metadata": {
        "colab": {
          "base_uri": "https://localhost:8080/"
        },
        "id": "o7SpmAUyKJ8_",
        "outputId": "e6cf65ce-b269-4bd1-94ad-ce17f37a9dd4"
      },
      "execution_count": null,
      "outputs": [
        {
          "output_type": "stream",
          "name": "stdout",
          "text": [
            "           Amount\n",
            "Category         \n",
            "Fruit        1701\n",
            "Vegetable    1197\n"
          ]
        }
      ]
    },
    {
      "cell_type": "markdown",
      "source": [
        "**To get the total sales of by category and product both.**\n",
        "\n",
        "creating pivot table of sales by product and category both\n",
        "aggfunc = 'sum' will allow you to obtain the sum of sales each product"
      ],
      "metadata": {
        "id": "ng0CalD8KUQf"
      }
    },
    {
      "cell_type": "code",
      "source": [
        "pivot = df.pivot_table(index =['Product', 'Category'], \n",
        "                       values =['Amount'], aggfunc ='sum')\n",
        "print (pivot)"
      ],
      "metadata": {
        "colab": {
          "base_uri": "https://localhost:8080/"
        },
        "id": "2s22lYISKiHS",
        "outputId": "90afd74c-4504-4546-8f44-0faa6423392f"
      },
      "execution_count": null,
      "outputs": [
        {
          "output_type": "stream",
          "name": "stdout",
          "text": [
            "                    Amount\n",
            "Product  Category         \n",
            "Banana   Fruit        1091\n",
            "Beans    Vegetable     626\n",
            "Broccoli Vegetable     301\n",
            "Carrots  Vegetable     270\n",
            "Orange   Fruit         610\n"
          ]
        }
      ]
    },
    {
      "cell_type": "markdown",
      "source": [
        "**To get the Mean, Median, Minimum sale by category.**\n",
        "\n",
        "creating pivot table of Mean, Median,Minimum sale by category aggfunc = {'median','mean', 'min'} will get median, mean and minimum of sales respectively."
      ],
      "metadata": {
        "id": "mmk1lLIIKr05"
      }
    },
    {
      "cell_type": "code",
      "source": [
        "pivot = df.pivot_table(index =['Category'], values =['Amount'], \n",
        "                       aggfunc ={'median', 'mean', 'min'})\n",
        "print (pivot)"
      ],
      "metadata": {
        "colab": {
          "base_uri": "https://localhost:8080/"
        },
        "id": "8YgpbclnK37G",
        "outputId": "dc0b8393-7d36-415c-a267-cd581aad6398"
      },
      "execution_count": null,
      "outputs": [
        {
          "output_type": "stream",
          "name": "stdout",
          "text": [
            "           Amount           \n",
            "             mean median min\n",
            "Category                    \n",
            "Fruit      425.25  497.0  90\n",
            "Vegetable  299.25  254.5  62\n"
          ]
        }
      ]
    },
    {
      "cell_type": "markdown",
      "source": [],
      "metadata": {
        "id": "4ySNVrhuLAJY"
      }
    }
  ]
}