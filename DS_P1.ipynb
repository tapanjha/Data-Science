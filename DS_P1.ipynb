{
  "nbformat": 4,
  "nbformat_minor": 0,
  "metadata": {
    "colab": {
      "provenance": [],
      "authorship_tag": "ABX9TyM4HHPBBCYOYuIoGIMcnQnD",
      "include_colab_link": true
    },
    "kernelspec": {
      "name": "python3",
      "display_name": "Python 3"
    },
    "language_info": {
      "name": "python"
    }
  },
  "cells": [
    {
      "cell_type": "markdown",
      "metadata": {
        "id": "view-in-github",
        "colab_type": "text"
      },
      "source": [
        "<a href=\"https://colab.research.google.com/github/tapanjha/Data-Science/blob/main/DS_P1.ipynb\" target=\"_parent\"><img src=\"https://colab.research.google.com/assets/colab-badge.svg\" alt=\"Open In Colab\"/></a>"
      ]
    },
    {
      "cell_type": "markdown",
      "source": [
        "# ***Introduction to Pandas***"
      ],
      "metadata": {
        "id": "2fGXM5CY-8nB"
      }
    },
    {
      "cell_type": "markdown",
      "source": [
        "1. Pandas is a Python library used for working with data sets. It has functions for analyzing, cleaning, exploring, and manipulating data. \n",
        "2. The name \"Pandas\" has a reference to both \"**Panel Data**\", and \"**Python Data Analysis**\" and was created by Wes **McKinney in 2008**.\n",
        "3. It is also refered as ***SQL of Python.***"
      ],
      "metadata": {
        "id": "BPEA0mnI_ELx"
      }
    },
    {
      "cell_type": "markdown",
      "source": [
        "***Why Pandas is used for Data Science?***\n",
        "1. Pandas are used in conjunction with other libraries that are used for data science. \n",
        "2.It is built on the top of the NumPy library which means that a lot of structures of NumPy are used or replicated in Pandas. \n",
        "3. The data produced by Pandas are often used as input for plotting functions of Matplotlib, statistical analysis in SciPy, and machine learning algorithms in Scikit-learn."
      ],
      "metadata": {
        "id": "bv1fBoK3El_I"
      }
    },
    {
      "cell_type": "markdown",
      "source": [
        "\n",
        "*   Installing Pandas: Pip install Pandas\n",
        "*   import pandas as pd\n",
        "\n"
      ],
      "metadata": {
        "id": "qhHp05LK_Pwq"
      }
    },
    {
      "cell_type": "markdown",
      "source": [
        "Pandas generally provide two data structures for manipulating data, They are: \n",
        "1.   Series\n",
        "2.   DataFrame \n",
        "\n",
        "\n"
      ],
      "metadata": {
        "id": "NGc9TPW__7ZW"
      }
    },
    {
      "cell_type": "markdown",
      "source": [
        "**1. Series:** Pandas Series is a one-dimensional labeled array capable of holding data of any type (integer, string, float, python objects, etc.). \n",
        "\n",
        "*    The axis labels are collectively called indexes.\n",
        "*   Pandas Series is nothing but a column in an excel sheet.\n",
        "*  Labels need not be unique but must be a hashable type.\n",
        "\n",
        "Note: An object is hashable if it has a hash value that does not change during its entire lifetime.\n",
        "\n",
        "*   In Python, any immutable object (such as an integer, boolean, string, tuple) is hashable, meaning its value does not change during its lifetime. This allows Python to create a unique hash value to identify it, which can be used by dictionaries to track unique keys and sets to track unique values."
      ],
      "metadata": {
        "id": "kTPsTYKZBlrg"
      }
    },
    {
      "cell_type": "markdown",
      "source": [
        "**Creating a Series**\n",
        "*   In the real world, a Pandas Series will be created by loading the datasets from existing storage, storage can be SQL Database, CSV file, an Excel file.\n",
        "*   Pandas Series can be created from the lists, dictionary, and from a scalar value etc."
      ],
      "metadata": {
        "id": "VdDFnyX5DE1D"
      }
    },
    {
      "cell_type": "code",
      "source": [
        "import pandas as pd\n",
        "import numpy as np\n",
        "\n",
        "\n",
        "# Creating empty series\n",
        "ser = pd.Series()\n",
        "\n",
        "print(ser)\n",
        "\n",
        "# simple array\n",
        "data = np.array(['g', 'e', 'e', 'k', 's'])\n",
        "\n",
        "ser = pd.Series(data)\n",
        "print(ser)\n"
      ],
      "metadata": {
        "colab": {
          "base_uri": "https://localhost:8080/"
        },
        "id": "940K_Pz4DXLh",
        "outputId": "3d891028-0c3b-4f2a-d7c7-fc3de5958129"
      },
      "execution_count": null,
      "outputs": [
        {
          "output_type": "stream",
          "name": "stdout",
          "text": [
            "Series([], dtype: float64)\n",
            "0    g\n",
            "1    e\n",
            "2    e\n",
            "3    k\n",
            "4    s\n",
            "dtype: object\n"
          ]
        },
        {
          "output_type": "stream",
          "name": "stderr",
          "text": [
            "<ipython-input-30-1b41e8d8c64d>:6: FutureWarning: The default dtype for empty Series will be 'object' instead of 'float64' in a future version. Specify a dtype explicitly to silence this warning.\n",
            "  ser = pd.Series()\n"
          ]
        }
      ]
    },
    {
      "cell_type": "markdown",
      "source": [
        "**2. DataFrame**\n",
        "*   Pandas DataFrame is a two-dimensional size-mutable, potentially heterogeneous tabular data structure with labeled axes (rows and columns).\n",
        "*   A Data frame is a two-dimensional data structure, i.e., data is aligned in a tabular fashion in rows and columns.\n",
        "*   Pandas DataFrame consists of three principal components, the data, rows, and columns.\n",
        "\n",
        "\n",
        "\n",
        "\n"
      ],
      "metadata": {
        "id": "hr0upFk8Dh6x"
      }
    },
    {
      "cell_type": "markdown",
      "source": [
        "**Creating a DataFrame:**\n",
        "In the real world, a Pandas DataFrame will be created by loading the datasets from existing storage, storage can be SQL Database, CSV file, an Excel file. Pandas DataFrame can be created from the lists, dictionary, and from a list of dictionaries, etc."
      ],
      "metadata": {
        "id": "CMAxlIvZEGmn"
      }
    },
    {
      "cell_type": "code",
      "source": [
        "import pandas as pd\n",
        "\n",
        "# Calling DataFrame constructor\n",
        "df = pd.DataFrame()\n",
        "print(df)\n",
        "\n",
        "# list of strings\n",
        "lst = ['Geeks', 'For', 'Geeks', 'is',\n",
        "\t\t\t'portal', 'for', 'Geeks']\n",
        "\n",
        "# Calling DataFrame constructor on list\n",
        "df = pd.DataFrame(lst)\n",
        "print(df)\n"
      ],
      "metadata": {
        "colab": {
          "base_uri": "https://localhost:8080/"
        },
        "id": "e2mN_OXKEIh3",
        "outputId": "e02cd8ad-4dc9-4d7b-a50a-372b9c388b5a"
      },
      "execution_count": null,
      "outputs": [
        {
          "output_type": "stream",
          "name": "stdout",
          "text": [
            "Empty DataFrame\n",
            "Columns: []\n",
            "Index: []\n",
            "        0\n",
            "0   Geeks\n",
            "1     For\n",
            "2   Geeks\n",
            "3      is\n",
            "4  portal\n",
            "5     for\n",
            "6   Geeks\n"
          ]
        }
      ]
    },
    {
      "cell_type": "markdown",
      "source": [
        "***Program-1(a): To create a pandas series from a list.***\n",
        "\n",
        "\n"
      ],
      "metadata": {
        "id": "_g4QTU3uprUG"
      }
    },
    {
      "cell_type": "code",
      "execution_count": null,
      "metadata": {
        "id": "jMdq0nXjnSX4"
      },
      "outputs": [],
      "source": [
        "import pandas as pd"
      ]
    },
    {
      "cell_type": "code",
      "source": [
        "list1 = ['A', 'B','C','D','E','F','G','H','I','J']"
      ],
      "metadata": {
        "id": "u65ef7vsn7YA"
      },
      "execution_count": null,
      "outputs": []
    },
    {
      "cell_type": "code",
      "source": [
        "series1= pd.Series(list1)"
      ],
      "metadata": {
        "id": "KQf-J-K4o6YG"
      },
      "execution_count": null,
      "outputs": []
    },
    {
      "cell_type": "code",
      "source": [
        "print(series1)"
      ],
      "metadata": {
        "colab": {
          "base_uri": "https://localhost:8080/"
        },
        "id": "IBIfIG0ZpK5X",
        "outputId": "067e3ae3-01a7-4ad0-f5c4-65ceed30d9ea"
      },
      "execution_count": null,
      "outputs": [
        {
          "output_type": "stream",
          "name": "stdout",
          "text": [
            "0    A\n",
            "1    B\n",
            "2    C\n",
            "3    D\n",
            "4    E\n",
            "5    F\n",
            "6    G\n",
            "7    H\n",
            "8    I\n",
            "9    J\n",
            "dtype: object\n"
          ]
        }
      ]
    },
    {
      "cell_type": "markdown",
      "source": [
        "***Program-1(b): To create a pandas series from a dictionary of values.***\n"
      ],
      "metadata": {
        "id": "tFFfdeXUqULu"
      }
    },
    {
      "cell_type": "code",
      "source": [
        "import pandas as pd"
      ],
      "metadata": {
        "id": "z1MNcwCHqdUD"
      },
      "execution_count": null,
      "outputs": []
    },
    {
      "cell_type": "code",
      "source": [
        "dict = {'A':100,'B': 200,'C':300,'D':400,'E':500}"
      ],
      "metadata": {
        "id": "l9YJMPabqwH9"
      },
      "execution_count": null,
      "outputs": []
    },
    {
      "cell_type": "code",
      "source": [
        "print(dict) # to print dictionary objects"
      ],
      "metadata": {
        "colab": {
          "base_uri": "https://localhost:8080/"
        },
        "id": "gusCdmIorqhi",
        "outputId": "468c3b4a-c618-4842-9d6c-9b9c7fe8b25d"
      },
      "execution_count": null,
      "outputs": [
        {
          "output_type": "stream",
          "name": "stdout",
          "text": [
            "{'A': 100, 'B': 200, 'C': 300, 'D': 400, 'E': 500}\n"
          ]
        }
      ]
    },
    {
      "cell_type": "code",
      "source": [
        "series1= pd.Series(dict)  # Series object is created from dictionary"
      ],
      "metadata": {
        "id": "XsOknBtUrzBi"
      },
      "execution_count": null,
      "outputs": []
    },
    {
      "cell_type": "code",
      "source": [
        "series1"
      ],
      "metadata": {
        "colab": {
          "base_uri": "https://localhost:8080/"
        },
        "id": "2W9n4vOWsRCQ",
        "outputId": "3f43a86a-81e6-445c-e121-369256804dd8"
      },
      "execution_count": null,
      "outputs": [
        {
          "output_type": "execute_result",
          "data": {
            "text/plain": [
              "A    100\n",
              "B    200\n",
              "C    300\n",
              "D    400\n",
              "E    500\n",
              "dtype: int64"
            ]
          },
          "metadata": {},
          "execution_count": 40
        }
      ]
    },
    {
      "cell_type": "code",
      "source": [
        "print(series1)"
      ],
      "metadata": {
        "colab": {
          "base_uri": "https://localhost:8080/"
        },
        "id": "-FBlmx0lsgH3",
        "outputId": "81911904-e9b6-4ae9-8d07-8c5fdfbce165"
      },
      "execution_count": null,
      "outputs": [
        {
          "output_type": "stream",
          "name": "stdout",
          "text": [
            "A    100\n",
            "B    200\n",
            "C    300\n",
            "D    400\n",
            "E    500\n",
            "dtype: int64\n"
          ]
        }
      ]
    },
    {
      "cell_type": "markdown",
      "source": [
        "***Program-1(c): To create a pandas series from ndarray.***"
      ],
      "metadata": {
        "id": "yGBmf4sowAkt"
      }
    },
    {
      "cell_type": "code",
      "source": [
        "import pandas as pd"
      ],
      "metadata": {
        "id": "Kctxl6MVwLXt"
      },
      "execution_count": null,
      "outputs": []
    },
    {
      "cell_type": "code",
      "source": [
        "import numpy as np"
      ],
      "metadata": {
        "id": "yU7iGEdPxAhI"
      },
      "execution_count": null,
      "outputs": []
    },
    {
      "cell_type": "code",
      "source": [
        "nd = np.arange(1,10) # creation of ND Array"
      ],
      "metadata": {
        "id": "_14XDDGMxRiH"
      },
      "execution_count": null,
      "outputs": []
    },
    {
      "cell_type": "code",
      "source": [
        "print(nd)        # Print Array"
      ],
      "metadata": {
        "colab": {
          "base_uri": "https://localhost:8080/"
        },
        "id": "7_XPi336xvaN",
        "outputId": "7801bf30-a0ce-459e-e668-00658fd804b0"
      },
      "execution_count": null,
      "outputs": [
        {
          "output_type": "stream",
          "name": "stdout",
          "text": [
            "[1 2 3 4 5 6 7 8 9]\n"
          ]
        }
      ]
    },
    {
      "cell_type": "code",
      "source": [
        "series1 = pd.Series(nd)    #Creation of Series"
      ],
      "metadata": {
        "id": "Xw92niAQyOCm"
      },
      "execution_count": null,
      "outputs": []
    },
    {
      "cell_type": "code",
      "source": [
        "print(series1)            # Printing Series"
      ],
      "metadata": {
        "colab": {
          "base_uri": "https://localhost:8080/"
        },
        "id": "CzvsPVLgydy1",
        "outputId": "c282eb66-194a-44c0-faea-61102b32fa46"
      },
      "execution_count": null,
      "outputs": [
        {
          "output_type": "stream",
          "name": "stdout",
          "text": [
            "0    1\n",
            "1    2\n",
            "2    3\n",
            "3    4\n",
            "4    5\n",
            "5    6\n",
            "6    7\n",
            "7    8\n",
            "8    9\n",
            "dtype: int64\n"
          ]
        }
      ]
    }
  ]
}