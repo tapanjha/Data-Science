{
  "nbformat": 4,
  "nbformat_minor": 0,
  "metadata": {
    "colab": {
      "provenance": [],
      "authorship_tag": "ABX9TyOmluTD4HvphFD59Zp11xBy",
      "include_colab_link": true
    },
    "kernelspec": {
      "name": "python3",
      "display_name": "Python 3"
    },
    "language_info": {
      "name": "python"
    }
  },
  "cells": [
    {
      "cell_type": "markdown",
      "metadata": {
        "id": "view-in-github",
        "colab_type": "text"
      },
      "source": [
        "<a href=\"https://colab.research.google.com/github/tapanjha/Data-Science/blob/main/IDS7.ipynb\" target=\"_parent\"><img src=\"https://colab.research.google.com/assets/colab-badge.svg\" alt=\"Open In Colab\"/></a>"
      ]
    },
    {
      "cell_type": "markdown",
      "source": [
        "***Finding Mean, Median, Mode in Python without libraries***"
      ],
      "metadata": {
        "id": "9ZB2CnrzpDRL"
      }
    },
    {
      "cell_type": "code",
      "execution_count": null,
      "metadata": {
        "colab": {
          "base_uri": "https://localhost:8080/"
        },
        "id": "BPbTJqNgoM9w",
        "outputId": "01148a6b-0071-4e66-a3be-58713b026dd3"
      },
      "outputs": [
        {
          "output_type": "stream",
          "name": "stdout",
          "text": [
            "Mean is: 3.0\n"
          ]
        }
      ],
      "source": [
        "# Python program to print\n",
        "# mean of elements\n",
        "\n",
        "# list of elements to calculate mean\n",
        "n_num = [1, 2, 3, 4, 5]\n",
        "n = len(n_num)\n",
        "\n",
        "get_sum = sum(n_num)\n",
        "mean = get_sum / n\n",
        "\n",
        "print(\"Mean is: \" + str(mean))\n"
      ]
    },
    {
      "cell_type": "code",
      "source": [
        "# Python program to print median of elements\n",
        "\n",
        "# list of elements to calculate median\n",
        "n_num = [10, 22, 34, 40, 51,67,75,100]\n",
        "n = len(n_num)\n",
        "n_num.sort()\n",
        "\n",
        "if n % 2 == 0:\n",
        "\tmedian1 = n_num[n//2]\n",
        "\tmedian2 = n_num[n//2 - 1]\n",
        "\tmedian = (median1 + median2)/2\n",
        "else:\n",
        "\tmedian = n_num[n//2]\n",
        "print(\"Median is: \" + str(median))\n"
      ],
      "metadata": {
        "colab": {
          "base_uri": "https://localhost:8080/"
        },
        "id": "--41oXr_z4cT",
        "outputId": "e1bd4f43-fb4d-47ea-bb03-915f1a2777b8"
      },
      "execution_count": null,
      "outputs": [
        {
          "output_type": "stream",
          "name": "stdout",
          "text": [
            "Median is: 45.5\n"
          ]
        }
      ]
    },
    {
      "cell_type": "markdown",
      "source": [
        "**# Alternate Method: Python program to print median of elements**"
      ],
      "metadata": {
        "id": "vGbFk8Lnc7IS"
      }
    },
    {
      "cell_type": "code",
      "source": [
        "list1 = [5,2,8,10,9, 6]\n",
        "def median(list1):\n",
        "                  list1.sort()\n",
        "                  if  len(list1)%2 ==1:\n",
        "                        return list1[len(list1)//2]\n",
        "                  else:\n",
        "                        return (list1[len(list1)//2-1] + list1[len(list1)//2])/2\n",
        "\n",
        "median(list1)               "
      ],
      "metadata": {
        "colab": {
          "base_uri": "https://localhost:8080/"
        },
        "id": "SsE3WUY5YFdw",
        "outputId": "75037c69-af24-4fec-91cc-1ffb1b0e3ccd"
      },
      "execution_count": 6,
      "outputs": [
        {
          "output_type": "execute_result",
          "data": {
            "text/plain": [
              "7.0"
            ]
          },
          "metadata": {},
          "execution_count": 6
        }
      ]
    },
    {
      "cell_type": "markdown",
      "source": [
        "**Python program to print mode of elements**"
      ],
      "metadata": {
        "id": "QtB3-NsVgKrq"
      }
    },
    {
      "cell_type": "code",
      "source": [
        "def mode(ls):\n",
        "    # create an empty dictionary to keep count of each value\n",
        "    counts = {}\n",
        "    # iterate through the list\n",
        "    for item in ls:\n",
        "        if item in counts:\n",
        "            counts[item] += 1\n",
        "        else:\n",
        "            counts[item] = 1\n",
        "    # get the keys with the max counts\n",
        "    return [key for key in counts.keys() if counts[key] == max(counts.values())]\n",
        "# use the function on a list of values\n",
        "mode([2,2,4,5,6,2,3,5,5,5])"
      ],
      "metadata": {
        "colab": {
          "base_uri": "https://localhost:8080/"
        },
        "id": "HulCizA7p3OV",
        "outputId": "8b4d7bca-1a91-424a-bcf5-30f9eff6732a"
      },
      "execution_count": 9,
      "outputs": [
        {
          "output_type": "execute_result",
          "data": {
            "text/plain": [
              "[5]"
            ]
          },
          "metadata": {},
          "execution_count": 9
        }
      ]
    },
    {
      "cell_type": "markdown",
      "source": [
        "**Finding Mean, Median, Mode using Python libraries**"
      ],
      "metadata": {
        "id": "UlSeIAwMDVtG"
      }
    },
    {
      "cell_type": "code",
      "source": [
        "# Python code to demonstrate the working of mean()\n",
        "\n",
        "# importing statistics to handle statistical operations\n",
        "import statistics\n",
        "\n",
        "# initializing list\n",
        "li = [1, 2, 3, 3, 2, 2, 2, 1]\n",
        "\n",
        "# using mean() to calculate average of list elements\n",
        "print (\"The average(or Mean) of list values is : \",end=\"\")\n",
        "print (statistics.mean(li))\n"
      ],
      "metadata": {
        "colab": {
          "base_uri": "https://localhost:8080/"
        },
        "id": "VU2KcdLUDTpJ",
        "outputId": "b14a7b44-a3a6-4920-ca2b-432edeb9e4f3"
      },
      "execution_count": null,
      "outputs": [
        {
          "output_type": "stream",
          "name": "stdout",
          "text": [
            "The average(or Mean) of list values is : 2\n"
          ]
        }
      ]
    },
    {
      "cell_type": "code",
      "source": [
        "# Python code to demonstrate the\n",
        "# working of median() on various\n",
        "# range of data-sets\n",
        "\n",
        "# importing the statistics module\n",
        "from statistics import median\n",
        "\n",
        "# Importing fractions module as fr\n",
        "from fractions import Fraction as fr\n",
        "\n",
        "# tuple of positive integer numbers\n",
        "data1 = (2, 3, 4, 5, 7, 9, 11)\n",
        "\n",
        "# tuple of floating point values\n",
        "data2 = (2.4, 5.1, 6.7, 8.9)\n",
        "\n",
        "# tuple of fractional numbers\n",
        "data3 = (fr(1, 2), fr(44, 12),\n",
        "\t\tfr(10, 3), fr(2, 3))\n",
        "\n",
        "# tuple of a set of negative integers\n",
        "data4 = (-5, -1, -12, -19, -3)\n",
        "\n",
        "# tuple of set of positive\n",
        "# and negative integers\n",
        "data5 = (-1, -2, -3, -4, 4, 3, 2, 1)\n",
        "\n",
        "# Printing the median of above datasets\n",
        "print(\"Median of data-set 1 is % s\" % (median(data1)))\n",
        "print(\"Median of data-set 2 is % s\" % (median(data2)))\n",
        "print(\"Median of data-set 3 is % s\" % (median(data3)))\n",
        "print(\"Median of data-set 4 is % s\" % (median(data4)))\n",
        "print(\"Median of data-set 5 is % s\" % (median(data5)))\n"
      ],
      "metadata": {
        "colab": {
          "base_uri": "https://localhost:8080/"
        },
        "id": "xC_EmCaaECU0",
        "outputId": "75c79377-5fac-4c4a-b195-8c0b4dd888c7"
      },
      "execution_count": null,
      "outputs": [
        {
          "output_type": "stream",
          "name": "stdout",
          "text": [
            "Median of data-set 1 is 5\n",
            "Median of data-set 2 is 5.9\n",
            "Median of data-set 3 is 2\n",
            "Median of data-set 4 is -5\n",
            "Median of data-set 5 is 0.0\n"
          ]
        }
      ]
    },
    {
      "cell_type": "code",
      "source": [
        "# Python code to demonstrate the working of mode() function on a various range of data types\n",
        "\n",
        "# Importing the statistics module\n",
        "from statistics import mode\n",
        "\n",
        "# Importing fractions module as fr\n",
        "# Enables to calculate harmonic_mean of a\n",
        "# set in Fraction\n",
        "from fractions import Fraction as fr\n",
        "\n",
        "# tuple of positive integer numbers\n",
        "data1 = (2, 3, 3, 4, 5, 5, 5, 5, 6, 6, 6, 7)\n",
        "\n",
        "# tuple of a set of floating point values\n",
        "data2 = (2.4, 1.3, 1.3, 1.3, 2.4, 4.6)\n",
        "\n",
        "# tuple of a set of fractional numbers\n",
        "data3 = (fr(1, 2), fr(1, 2), fr(10, 3), fr(2, 3))\n",
        "\n",
        "# tuple of a set of negative integers\n",
        "data4 = (-1, -2, -2, -2, -7, -7, -9)\n",
        "\n",
        "# tuple of strings\n",
        "data5 = (\"red\", \"blue\", \"black\", \"blue\", \"black\", \"black\", \"brown\")\n",
        "\n",
        "\n",
        "# Printing out the mode of the above data-sets\n",
        "print(\"Mode of data set 1 is % s\" % (mode(data1)))\n",
        "print(\"Mode of data set 2 is % s\" % (mode(data2)))\n",
        "print(\"Mode of data set 3 is % s\" % (mode(data3)))\n",
        "print(\"Mode of data set 4 is % s\" % (mode(data4)))\n",
        "print(\"Mode of data set 5 is % s\" % (mode(data5)))\n"
      ],
      "metadata": {
        "id": "SSwHGwRPELXV"
      },
      "execution_count": null,
      "outputs": []
    },
    {
      "cell_type": "markdown",
      "source": [
        "**Prog-7: Create a DataFrame based on E-Commerce data and generate mean, mode, median**"
      ],
      "metadata": {
        "id": "sL0CAbtkrvPs"
      }
    },
    {
      "cell_type": "code",
      "source": [
        "import pandas as pd"
      ],
      "metadata": {
        "id": "jUonS-zHtPcc"
      },
      "execution_count": null,
      "outputs": []
    },
    {
      "cell_type": "code",
      "source": [
        "ecom_data = {\"pid\":[101,102,103,104,105,106,107,108,109,110], \n",
        "             \"product_name\":[\"AC\",\"Fan\",\"Books\",\"LCD\",\"TV\",\"Monitor\",\"UPS\",\"Cookware\",\"Cloths\",\"Shoes\"],\n",
        "             \"price\":[35000, 1250, 425,9000,10500,5000,2750,3570,1580,2500]}"
      ],
      "metadata": {
        "id": "RjgC70UTtS6r"
      },
      "execution_count": null,
      "outputs": []
    },
    {
      "cell_type": "code",
      "source": [
        "print(ecom_data)"
      ],
      "metadata": {
        "colab": {
          "base_uri": "https://localhost:8080/"
        },
        "id": "RH43vbvnveDX",
        "outputId": "79aa1fa4-0d18-4cf5-e6c5-0276ee465f2e"
      },
      "execution_count": null,
      "outputs": [
        {
          "output_type": "stream",
          "name": "stdout",
          "text": [
            "{'pid': [101, 102, 103, 104, 105, 106, 107, 108, 109, 110], 'product_name': ['AC', 'Fan', 'Books', 'LCD', 'TV', 'Monitor', 'UPS', 'Cookware', 'Cloths', 'Shoes'], 'price': [35000, 1250, 425, 9000, 10500, 5000, 2750, 3570, 1580, 2500]}\n"
          ]
        }
      ]
    },
    {
      "cell_type": "code",
      "source": [
        "df = pd.DataFrame(ecom_data)\n",
        "print(df)"
      ],
      "metadata": {
        "colab": {
          "base_uri": "https://localhost:8080/"
        },
        "id": "5exi-umNvozx",
        "outputId": "28c2a1ee-34b7-415d-fdcd-36d22bed55d1"
      },
      "execution_count": null,
      "outputs": [
        {
          "output_type": "stream",
          "name": "stdout",
          "text": [
            "   pid product_name  price\n",
            "0  101           AC  35000\n",
            "1  102          Fan   1250\n",
            "2  103        Books    425\n",
            "3  104          LCD   9000\n",
            "4  105           TV  10500\n",
            "5  106      Monitor   5000\n",
            "6  107          UPS   2750\n",
            "7  108     Cookware   3570\n",
            "8  109       Cloths   1580\n",
            "9  110        Shoes   2500\n"
          ]
        }
      ]
    },
    {
      "cell_type": "code",
      "source": [
        "count= df[\"price\"].count()\n",
        "print(count)"
      ],
      "metadata": {
        "colab": {
          "base_uri": "https://localhost:8080/"
        },
        "id": "YavmogPCyPm2",
        "outputId": "320e5b7b-73eb-445e-b344-638f6d39b441"
      },
      "execution_count": null,
      "outputs": [
        {
          "output_type": "stream",
          "name": "stdout",
          "text": [
            "10\n"
          ]
        }
      ]
    },
    {
      "cell_type": "code",
      "source": [
        "max= df[\"price\"].max()\n",
        "print(max)"
      ],
      "metadata": {
        "colab": {
          "base_uri": "https://localhost:8080/"
        },
        "id": "Nwm7MWaDyjkB",
        "outputId": "1fc97863-be9b-49c6-8b85-9e09d1a3a7eb"
      },
      "execution_count": null,
      "outputs": [
        {
          "output_type": "stream",
          "name": "stdout",
          "text": [
            "35000\n"
          ]
        }
      ]
    },
    {
      "cell_type": "code",
      "source": [
        "min= df[\"price\"].min()\n",
        "print(min)"
      ],
      "metadata": {
        "colab": {
          "base_uri": "https://localhost:8080/"
        },
        "id": "RL8BB1aeypwN",
        "outputId": "84c94542-683d-48bc-e8a9-7fb3bfd70f2b"
      },
      "execution_count": null,
      "outputs": [
        {
          "output_type": "stream",
          "name": "stdout",
          "text": [
            "425\n"
          ]
        }
      ]
    },
    {
      "cell_type": "code",
      "source": [
        "mean= df[\"price\"].mean()\n",
        "print(mean)"
      ],
      "metadata": {
        "colab": {
          "base_uri": "https://localhost:8080/"
        },
        "id": "aC1aRS2JwFMA",
        "outputId": "8134b9d0-15ec-4919-923c-e671a854e8a5"
      },
      "execution_count": null,
      "outputs": [
        {
          "output_type": "stream",
          "name": "stdout",
          "text": [
            "7157.5\n"
          ]
        }
      ]
    },
    {
      "cell_type": "code",
      "source": [
        "median= df[\"price\"].median()\n",
        "print(median)"
      ],
      "metadata": {
        "colab": {
          "base_uri": "https://localhost:8080/"
        },
        "id": "X3L7eon_wgHL",
        "outputId": "93fab4f1-d428-4d81-d3f7-eedbd4b7b8ce"
      },
      "execution_count": null,
      "outputs": [
        {
          "output_type": "stream",
          "name": "stdout",
          "text": [
            "3160.0\n"
          ]
        }
      ]
    },
    {
      "cell_type": "code",
      "source": [
        "mode= df[\"price\"].mode()\n",
        "print(mode)"
      ],
      "metadata": {
        "colab": {
          "base_uri": "https://localhost:8080/"
        },
        "id": "3GEF3A2Ewt-h",
        "outputId": "e92d0ec5-cea9-4c92-c5ea-9c33040c554a"
      },
      "execution_count": null,
      "outputs": [
        {
          "output_type": "stream",
          "name": "stdout",
          "text": [
            "0      425\n",
            "1     1250\n",
            "2     1580\n",
            "3     2500\n",
            "4     2750\n",
            "5     3570\n",
            "6     5000\n",
            "7     9000\n",
            "8    10500\n",
            "9    35000\n",
            "Name: price, dtype: int64\n"
          ]
        }
      ]
    },
    {
      "cell_type": "code",
      "source": [
        "std= df[\"price\"].std()\n",
        "print(std)"
      ],
      "metadata": {
        "colab": {
          "base_uri": "https://localhost:8080/"
        },
        "id": "JwJBrURYy2dM",
        "outputId": "250c2611-4dff-4463-97e0-a3056f09fdf1"
      },
      "execution_count": null,
      "outputs": [
        {
          "output_type": "stream",
          "name": "stdout",
          "text": [
            "10326.604596865322\n"
          ]
        }
      ]
    },
    {
      "cell_type": "code",
      "source": [
        "variance= df[\"price\"].var()\n",
        "print(variance)"
      ],
      "metadata": {
        "colab": {
          "base_uri": "https://localhost:8080/"
        },
        "id": "IZfYUWnFw9ug",
        "outputId": "21ef27be-2ad8-4c7e-e4e6-e316d81ee598"
      },
      "execution_count": null,
      "outputs": [
        {
          "output_type": "stream",
          "name": "stdout",
          "text": [
            "106638762.5\n"
          ]
        }
      ]
    },
    {
      "cell_type": "code",
      "source": [
        "df.quantile([0.25,0.50,0.75])"
      ],
      "metadata": {
        "colab": {
          "base_uri": "https://localhost:8080/",
          "height": 143
        },
        "id": "lH6cM_bXxKmU",
        "outputId": "30b6165b-78d1-4f9f-c7ff-811f4aac940f"
      },
      "execution_count": null,
      "outputs": [
        {
          "output_type": "execute_result",
          "data": {
            "text/plain": [
              "         pid   price\n",
              "0.25  103.25  1810.0\n",
              "0.50  105.50  3160.0\n",
              "0.75  107.75  8000.0"
            ],
            "text/html": [
              "\n",
              "  <div id=\"df-986d69e0-af99-48e9-994a-5b92f92fa137\">\n",
              "    <div class=\"colab-df-container\">\n",
              "      <div>\n",
              "<style scoped>\n",
              "    .dataframe tbody tr th:only-of-type {\n",
              "        vertical-align: middle;\n",
              "    }\n",
              "\n",
              "    .dataframe tbody tr th {\n",
              "        vertical-align: top;\n",
              "    }\n",
              "\n",
              "    .dataframe thead th {\n",
              "        text-align: right;\n",
              "    }\n",
              "</style>\n",
              "<table border=\"1\" class=\"dataframe\">\n",
              "  <thead>\n",
              "    <tr style=\"text-align: right;\">\n",
              "      <th></th>\n",
              "      <th>pid</th>\n",
              "      <th>price</th>\n",
              "    </tr>\n",
              "  </thead>\n",
              "  <tbody>\n",
              "    <tr>\n",
              "      <th>0.25</th>\n",
              "      <td>103.25</td>\n",
              "      <td>1810.0</td>\n",
              "    </tr>\n",
              "    <tr>\n",
              "      <th>0.50</th>\n",
              "      <td>105.50</td>\n",
              "      <td>3160.0</td>\n",
              "    </tr>\n",
              "    <tr>\n",
              "      <th>0.75</th>\n",
              "      <td>107.75</td>\n",
              "      <td>8000.0</td>\n",
              "    </tr>\n",
              "  </tbody>\n",
              "</table>\n",
              "</div>\n",
              "      <button class=\"colab-df-convert\" onclick=\"convertToInteractive('df-986d69e0-af99-48e9-994a-5b92f92fa137')\"\n",
              "              title=\"Convert this dataframe to an interactive table.\"\n",
              "              style=\"display:none;\">\n",
              "        \n",
              "  <svg xmlns=\"http://www.w3.org/2000/svg\" height=\"24px\"viewBox=\"0 0 24 24\"\n",
              "       width=\"24px\">\n",
              "    <path d=\"M0 0h24v24H0V0z\" fill=\"none\"/>\n",
              "    <path d=\"M18.56 5.44l.94 2.06.94-2.06 2.06-.94-2.06-.94-.94-2.06-.94 2.06-2.06.94zm-11 1L8.5 8.5l.94-2.06 2.06-.94-2.06-.94L8.5 2.5l-.94 2.06-2.06.94zm10 10l.94 2.06.94-2.06 2.06-.94-2.06-.94-.94-2.06-.94 2.06-2.06.94z\"/><path d=\"M17.41 7.96l-1.37-1.37c-.4-.4-.92-.59-1.43-.59-.52 0-1.04.2-1.43.59L10.3 9.45l-7.72 7.72c-.78.78-.78 2.05 0 2.83L4 21.41c.39.39.9.59 1.41.59.51 0 1.02-.2 1.41-.59l7.78-7.78 2.81-2.81c.8-.78.8-2.07 0-2.86zM5.41 20L4 18.59l7.72-7.72 1.47 1.35L5.41 20z\"/>\n",
              "  </svg>\n",
              "      </button>\n",
              "      \n",
              "  <style>\n",
              "    .colab-df-container {\n",
              "      display:flex;\n",
              "      flex-wrap:wrap;\n",
              "      gap: 12px;\n",
              "    }\n",
              "\n",
              "    .colab-df-convert {\n",
              "      background-color: #E8F0FE;\n",
              "      border: none;\n",
              "      border-radius: 50%;\n",
              "      cursor: pointer;\n",
              "      display: none;\n",
              "      fill: #1967D2;\n",
              "      height: 32px;\n",
              "      padding: 0 0 0 0;\n",
              "      width: 32px;\n",
              "    }\n",
              "\n",
              "    .colab-df-convert:hover {\n",
              "      background-color: #E2EBFA;\n",
              "      box-shadow: 0px 1px 2px rgba(60, 64, 67, 0.3), 0px 1px 3px 1px rgba(60, 64, 67, 0.15);\n",
              "      fill: #174EA6;\n",
              "    }\n",
              "\n",
              "    [theme=dark] .colab-df-convert {\n",
              "      background-color: #3B4455;\n",
              "      fill: #D2E3FC;\n",
              "    }\n",
              "\n",
              "    [theme=dark] .colab-df-convert:hover {\n",
              "      background-color: #434B5C;\n",
              "      box-shadow: 0px 1px 3px 1px rgba(0, 0, 0, 0.15);\n",
              "      filter: drop-shadow(0px 1px 2px rgba(0, 0, 0, 0.3));\n",
              "      fill: #FFFFFF;\n",
              "    }\n",
              "  </style>\n",
              "\n",
              "      <script>\n",
              "        const buttonEl =\n",
              "          document.querySelector('#df-986d69e0-af99-48e9-994a-5b92f92fa137 button.colab-df-convert');\n",
              "        buttonEl.style.display =\n",
              "          google.colab.kernel.accessAllowed ? 'block' : 'none';\n",
              "\n",
              "        async function convertToInteractive(key) {\n",
              "          const element = document.querySelector('#df-986d69e0-af99-48e9-994a-5b92f92fa137');\n",
              "          const dataTable =\n",
              "            await google.colab.kernel.invokeFunction('convertToInteractive',\n",
              "                                                     [key], {});\n",
              "          if (!dataTable) return;\n",
              "\n",
              "          const docLinkHtml = 'Like what you see? Visit the ' +\n",
              "            '<a target=\"_blank\" href=https://colab.research.google.com/notebooks/data_table.ipynb>data table notebook</a>'\n",
              "            + ' to learn more about interactive tables.';\n",
              "          element.innerHTML = '';\n",
              "          dataTable['output_type'] = 'display_data';\n",
              "          await google.colab.output.renderOutput(dataTable, element);\n",
              "          const docLink = document.createElement('div');\n",
              "          docLink.innerHTML = docLinkHtml;\n",
              "          element.appendChild(docLink);\n",
              "        }\n",
              "      </script>\n",
              "    </div>\n",
              "  </div>\n",
              "  "
            ]
          },
          "metadata": {},
          "execution_count": 20
        }
      ]
    },
    {
      "cell_type": "code",
      "source": [
        "desc= df[\"price\"].describe()\n",
        "print(desc)"
      ],
      "metadata": {
        "colab": {
          "base_uri": "https://localhost:8080/"
        },
        "id": "Ex_OizJ3zCYR",
        "outputId": "1bf50b88-d663-4b4f-cc0a-0f42e22d58a4"
      },
      "execution_count": null,
      "outputs": [
        {
          "output_type": "stream",
          "name": "stdout",
          "text": [
            "count       10.000000\n",
            "mean      7157.500000\n",
            "std      10326.604597\n",
            "min        425.000000\n",
            "25%       1810.000000\n",
            "50%       3160.000000\n",
            "75%       8000.000000\n",
            "max      35000.000000\n",
            "Name: price, dtype: float64\n"
          ]
        }
      ]
    }
  ]
}